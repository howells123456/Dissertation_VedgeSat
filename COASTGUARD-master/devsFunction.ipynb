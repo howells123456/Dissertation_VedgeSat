{
 "cells": [
  {
   "cell_type": "code",
   "execution_count": 1,
   "id": "45b3f7ff-35cb-46da-a6e9-35d58798e497",
   "metadata": {},
   "outputs": [],
   "source": [
    "import os\n",
    "import glob\n",
    "import pickle\n",
    "import warnings\n",
    "warnings.filterwarnings(\"ignore\")\n",
    "import matplotlib\n",
    "matplotlib.use('Qt5Agg')\n",
    "import matplotlib.pyplot as plt\n",
    "plt.ion()\n",
    "from datetime import datetime\n",
    "from Toolshed import Download, Toolbox, VegetationLine, Plotting, PlottingSeaborn, Transects\n",
    "import ee\n",
    "import geopandas as gpd\n",
    "import geemap\n",
    "\n",
    "ee.Initialize()"
   ]
  },
  {
   "cell_type": "code",
   "execution_count": 2,
   "id": "36fc0ff9-fcdf-47f8-848b-fabca2bb9b08",
   "metadata": {},
   "outputs": [
    {
     "data": {
      "text/html": [
       "\n",
       "            <style>\n",
       "                .geemap-dark {\n",
       "                    --jp-widgets-color: white;\n",
       "                    --jp-widgets-label-color: white;\n",
       "                    --jp-ui-font-color1: white;\n",
       "                    --jp-layout-color2: #454545;\n",
       "                    background-color: #383838;\n",
       "                }\n",
       "\n",
       "                .geemap-dark .jupyter-button {\n",
       "                    --jp-layout-color3: #383838;\n",
       "                }\n",
       "\n",
       "                .geemap-colab {\n",
       "                    background-color: var(--colab-primary-surface-color, white);\n",
       "                }\n",
       "\n",
       "                .geemap-colab .jupyter-button {\n",
       "                    --jp-layout-color3: var(--colab-primary-surface-color, white);\n",
       "                }\n",
       "            </style>\n",
       "            "
      ],
      "text/plain": [
       "<IPython.core.display.HTML object>"
      ]
     },
     "metadata": {},
     "output_type": "display_data"
    }
   ],
   "source": [
    "# Define AOI using coordinates of a rectangle\n",
    "# The points represent the corners of a bounding box that go around your site\n",
    "sitename = 'TESTING_A'#'SITENAME'\n",
    "\n",
    "# Date range\n",
    "dates = ['2022-01-01', '2022-03-30'] # ['2021-05-01', '2021-07-02']\n",
    "\n",
    "# Satellite missions\n",
    "# Input a list of containing any/all of 'L5', 'L7', 'L8', 'L9', 'S2', 'PSScene4Band'\n",
    "# L5: 1984-2013; L7: 1999-2017 (SLC error from 2003); L8: 2013-present; S2: 2014-present; L9: 2021-present\n",
    "sat_list = ['L8'] #['L5','L8','S2']\n",
    "\n",
    "# Cloud threshold for screening out cloudy imagery (0.5 or 50% recommended)\n",
    "cloud_thresh = 0.5\n",
    "\n",
    "# Extract shoreline (wet-dry boundary) as well as veg edge\n",
    "wetdry = False#True\n",
    "\n",
    "# Reference shoreline/veg line shapefile name (should be stored in a folder called referenceLines in Data)\n",
    "# Line should be ONE CONTINUOUS linestring along the shore, stored as a shapefile in WGS84 coord system\n",
    "referenceLineShp = 'EXAMPLE_refLineA.shp' #'SITENAME_refLine.shp'\n",
    "# Maximum amount in metres by which to buffer the reference line for capturing veg edges within\n",
    "max_dist_ref = 150"
   ]
  },
  {
   "cell_type": "code",
   "execution_count": 3,
   "id": "dba4dd7c-3f05-4172-97b1-b64d7cb34508",
   "metadata": {},
   "outputs": [
    {
     "data": {
      "text/html": [
       "\n",
       "            <style>\n",
       "                .geemap-dark {\n",
       "                    --jp-widgets-color: white;\n",
       "                    --jp-widgets-label-color: white;\n",
       "                    --jp-ui-font-color1: white;\n",
       "                    --jp-layout-color2: #454545;\n",
       "                    background-color: #383838;\n",
       "                }\n",
       "\n",
       "                .geemap-dark .jupyter-button {\n",
       "                    --jp-layout-color3: #383838;\n",
       "                }\n",
       "\n",
       "                .geemap-colab {\n",
       "                    background-color: var(--colab-primary-surface-color, white);\n",
       "                }\n",
       "\n",
       "                .geemap-colab .jupyter-button {\n",
       "                    --jp-layout-color3: var(--colab-primary-surface-color, white);\n",
       "                }\n",
       "            </style>\n",
       "            "
      ],
      "text/plain": [
       "<IPython.core.display.HTML object>"
      ]
     },
     "metadata": {},
     "output_type": "display_data"
    },
    {
     "name": "stdout",
     "output_type": "stream",
     "text": [
      "C:\\Users\\charl\\Downloads\\DIX\\COASTGUARD-master (1)\\COASTGUARD-master\\Data\\referenceLines\\EXAMPLE_refLineA.shp\n",
      "retrieving image metadata...\n",
      "Metadata already exists and was loaded\n",
      "Images available between 2022-01-01 and 2022-03-30:\n",
      "- In Landsat Tier 1 & Sentinel-2 Level-1C:\n",
      "  L8: 8 images\n",
      "  Total: 8 images\n",
      "- In Landsat Tier 2:\n",
      "  L8: 0 images\n",
      "  Total: 0 images\n",
      "32630 proj\n"
     ]
    }
   ],
   "source": [
    "# Directory where the data will be stored\n",
    "filepath = Toolbox.CreateFileStructure(sitename, sat_list)\n",
    "# Return AOI from reference line bounding box and save AOI folium map HTML in sitename directory\n",
    "referenceLinePath = os.path.join(filepath, 'referenceLines', referenceLineShp)\n",
    "print(referenceLinePath)\n",
    "referenceLineDF = gpd.read_file(referenceLinePath)\n",
    "#print(tabulate(referenceLineDF.head(), 'grid'))\n",
    "#print(referenceLineDF.head())\n",
    "polygon, point, lonmin, lonmax, latmin, latmax = Toolbox.AOIfromLine(referenceLinePath, max_dist_ref, sitename)\n",
    "\n",
    "# It's recommended to convert the polygon to the smallest rectangle (sides parallel to coordinate axes)       \n",
    "polygon = Toolbox.smallest_rectangle(polygon)\n",
    "\n",
    "if len(dates)>2:\n",
    "    daterange='no'\n",
    "else:\n",
    "    daterange='yes'\n",
    "years = list(Toolbox.daterange(datetime.strptime(dates[0],'%Y-%m-%d'), datetime.strptime(dates[-1],'%Y-%m-%d')))\n",
    "\n",
    "# Put all the inputs into a dictionary\n",
    "inputs = {'polygon': polygon, 'dates': dates, 'daterange':daterange, 'sat_list': sat_list, 'sitename': sitename, 'filepath':filepath}\n",
    "\n",
    "Sat = Toolbox.image_retrieval(inputs)\n",
    "metadata = Toolbox.metadata_collection(inputs, Sat)\n",
    "inputs = Download.check_images_available(inputs)\n",
    "\n",
    "#BasePath = 'Data/' + sitename + '/lines'\n",
    "BasePath = 'Data/' + sitename + '/linesV'\n",
    "\n",
    "if os.path.isdir(BasePath) is False:\n",
    "    os.mkdir(BasePath)\n",
    "\n",
    "projection_epsg, _ = Toolbox.FindUTM(polygon[0][0][1],polygon[0][0][0])\n",
    "print(projection_epsg,'proj')\n",
    "settings = {\n",
    "    # general parameters:\n",
    "    'cloud_thresh': cloud_thresh,        # threshold on maximum cloud cover\n",
    "    'output_epsg': projection_epsg,     # epsg code of spatial reference system desired for the output   \n",
    "    'wetdry': wetdry,              # extract wet-dry boundary as well as veg\n",
    "    # quality control:\n",
    "    'check_detection': True,    # if True, shows each shoreline detection to the user for validation\n",
    "    'adjust_detection': False,  # if True, allows user to adjust the postion of each shoreline by changing the threhold\n",
    "    'save_figure': True,        # if True, saves a figure showing the mapped shoreline for each image\n",
    "    # [ONLY FOR ADVANCED USERS] shoreline detection parameters:\n",
    "    'min_beach_area': 200,     # minimum area (in metres^2) for an object to be labelled as a beach\n",
    "    'buffer_size': 250,         # radius (in metres) for buffer around sandy pixels considered in the shoreline detection\n",
    "    'min_length_sl': 500,       # minimum length (in metres) of shoreline perimeter to be valid\n",
    "    'cloud_mask_issue': False,  # switch this parameter to True if sand pixels are masked (in black) on many images  \n",
    "    # add the inputs defined previously\n",
    "    'inputs': inputs,\n",
    "    'projection_epsg': projection_epsg,\n",
    "    'year_list': years\n",
    "}\n",
    "\n",
    "referenceLinePath = os.path.join(inputs['filepath'], 'referenceLines', referenceLineShp)\n",
    "referenceLine, ref_epsg = Toolbox.ProcessRefline(referenceLinePath,settings)\n",
    "#print(f'{referenceLinePath}\\n{referenceLine}\\n{ref_epsg}')\n",
    "\n",
    "settings['reference_shoreline'] = referenceLine\n",
    "settings['ref_epsg'] = ref_epsg\n",
    "# Distance to buffer reference line by (this is in metres)\n",
    "settings['max_dist_ref'] = max_dist_ref\n",
    "\n",
    "settings['reference_coreg_im'] = None # leave as None if no coregistration is to be performed"
   ]
  },
  {
   "cell_type": "code",
   "execution_count": null,
   "id": "f4025f42-3bbf-4be8-b3eb-965ad595bf1d",
   "metadata": {
    "scrolled": true
   },
   "outputs": [
    {
     "data": {
      "text/html": [
       "\n",
       "            <style>\n",
       "                .geemap-dark {\n",
       "                    --jp-widgets-color: white;\n",
       "                    --jp-widgets-label-color: white;\n",
       "                    --jp-ui-font-color1: white;\n",
       "                    --jp-layout-color2: #454545;\n",
       "                    background-color: #383838;\n",
       "                }\n",
       "\n",
       "                .geemap-dark .jupyter-button {\n",
       "                    --jp-layout-color3: #383838;\n",
       "                }\n",
       "\n",
       "                .geemap-colab {\n",
       "                    background-color: var(--colab-primary-surface-color, white);\n",
       "                }\n",
       "\n",
       "                .geemap-colab .jupyter-button {\n",
       "                    --jp-layout-color3: var(--colab-primary-surface-color, white);\n",
       "                }\n",
       "            </style>\n",
       "            "
      ],
      "text/plain": [
       "<IPython.core.display.HTML object>"
      ]
     },
     "metadata": {},
     "output_type": "display_data"
    },
    {
     "name": "stdout",
     "output_type": "stream",
     "text": [
      "C:\\Users\\charl\\Downloads\\DIX\\COASTGUARD-master (1)\\COASTGUARD-master\\Data\\TESTING_A\n",
      "running Toolbox.ResumeVegline...\n",
      "C:\\Users\\charl\\Downloads\\DIX\\COASTGUARD-master (1)\\COASTGUARD-master\\Data\\TESTING_A\\jpg_files\\detection\n",
      "Mapping veglines:\n",
      "loop through satellite list\n",
      "satname\n",
      "['2022-01-13', '2022-01-29', '2022-03-18', '2022-04-03', '2022-04-19', '2022-05-05', '2022-05-21', '2022-06-06', '2022-06-22', '2022-01-04', '2022-01-20', '2022-02-21', '2022-03-25', '2022-04-10', '2022-04-26', '2022-05-12', '2022-05-28', '2022-06-29']\n",
      "L8 selected with 15 MLPClassifier_Veg_L5L8S2.pkl\n",
      "load in trained classifier pkl file\n",
      " loop through the images\n",
      "L8:   5.556 %  # preprocess image (cloud mask + pansharpening/downsampling)\n",
      "Image_Processing.preprocess_single\n",
      " \n",
      "saving LANDSAT/LC08/C02/T1_TOA/LC08_203024_20220113\n",
      "# classify image with NN classifier\n",
      "# save classified image and transition zone mask after classification takes place\n",
      " \n",
      "saving classified LANDSAT/LC08/C02/T1_TOA/LC08_203024_20220113\n",
      " \n",
      "saving transition zone of LANDSAT/LC08/C02/T1_TOA/LC08_203024_20220113\n",
      "# compute NDVI image (NIR-R)\n"
     ]
    }
   ],
   "source": [
    "output, output_latlon, output_proj = VegetationLine.extract_veglines(metadata, settings, polygon, dates)"
   ]
  },
  {
   "cell_type": "code",
   "execution_count": 19,
   "id": "f413afe8-3f26-4d69-80d0-9ce0b9ce01ec",
   "metadata": {},
   "outputs": [
    {
     "data": {
      "text/html": [
       "\n",
       "            <style>\n",
       "                .geemap-dark {\n",
       "                    --jp-widgets-color: white;\n",
       "                    --jp-widgets-label-color: white;\n",
       "                    --jp-ui-font-color1: white;\n",
       "                    --jp-layout-color2: #454545;\n",
       "                    background-color: #383838;\n",
       "                }\n",
       "\n",
       "                .geemap-dark .jupyter-button {\n",
       "                    --jp-layout-color3: #383838;\n",
       "                }\n",
       "\n",
       "                .geemap-colab {\n",
       "                    background-color: var(--colab-primary-surface-color, white);\n",
       "                }\n",
       "\n",
       "                .geemap-colab .jupyter-button {\n",
       "                    --jp-layout-color3: var(--colab-primary-surface-color, white);\n",
       "                }\n",
       "            </style>\n",
       "            "
      ],
      "text/plain": [
       "<IPython.core.display.HTML object>"
      ]
     },
     "metadata": {},
     "output_type": "display_data"
    },
    {
     "data": {
      "text/plain": [
       "<function os.makedirs(name, mode=511, exist_ok=False)>"
      ]
     },
     "execution_count": 19,
     "metadata": {},
     "output_type": "execute_result"
    }
   ],
   "source": [
    "os.makedirs"
   ]
  },
  {
   "cell_type": "code",
   "execution_count": 26,
   "id": "48606569-6974-45f4-9097-10c8bfb765b8",
   "metadata": {},
   "outputs": [
    {
     "data": {
      "text/html": [
       "\n",
       "            <style>\n",
       "                .geemap-dark {\n",
       "                    --jp-widgets-color: white;\n",
       "                    --jp-widgets-label-color: white;\n",
       "                    --jp-ui-font-color1: white;\n",
       "                    --jp-layout-color2: #454545;\n",
       "                    background-color: #383838;\n",
       "                }\n",
       "\n",
       "                .geemap-dark .jupyter-button {\n",
       "                    --jp-layout-color3: #383838;\n",
       "                }\n",
       "\n",
       "                .geemap-colab {\n",
       "                    background-color: var(--colab-primary-surface-color, white);\n",
       "                }\n",
       "\n",
       "                .geemap-colab .jupyter-button {\n",
       "                    --jp-layout-color3: var(--colab-primary-surface-color, white);\n",
       "                }\n",
       "            </style>\n",
       "            "
      ],
      "text/plain": [
       "<IPython.core.display.HTML object>"
      ]
     },
     "metadata": {},
     "output_type": "display_data"
    },
    {
     "data": {
      "text/plain": [
       "{'L8': {'dates': [],\n",
       "  'times': [],\n",
       "  'veglines': [],\n",
       "  'waterlines': [],\n",
       "  'filename': [],\n",
       "  'cloud_cover': [],\n",
       "  'idx': [],\n",
       "  'vthreshold': [],\n",
       "  'wthreshold': [],\n",
       "  'tideelev': []},\n",
       " 'S2': {'dates': [],\n",
       "  'times': [],\n",
       "  'veglines': [],\n",
       "  'waterlines': [],\n",
       "  'filename': [],\n",
       "  'cloud_cover': [],\n",
       "  'idx': [],\n",
       "  'vthreshold': [],\n",
       "  'wthreshold': [],\n",
       "  'tideelev': []}}"
      ]
     },
     "execution_count": 26,
     "metadata": {},
     "output_type": "execute_result"
    }
   ],
   "source": [
    "output"
   ]
  },
  {
   "cell_type": "code",
   "execution_count": null,
   "id": "7f8a1af5-8733-44d8-851d-35a09366d2e2",
   "metadata": {},
   "outputs": [],
   "source": []
  }
 ],
 "metadata": {
  "kernelspec": {
   "display_name": "coastguard",
   "language": "python",
   "name": "coastguard"
  },
  "language_info": {
   "codemirror_mode": {
    "name": "ipython",
    "version": 3
   },
   "file_extension": ".py",
   "mimetype": "text/x-python",
   "name": "python",
   "nbconvert_exporter": "python",
   "pygments_lexer": "ipython3",
   "version": "3.10.15"
  }
 },
 "nbformat": 4,
 "nbformat_minor": 5
}
